{
  "cells": [
    {
      "cell_type": "markdown",
      "metadata": {
        "id": "W1ZYXI-mwfIz"
      },
      "source": [
        "<b><p align=\"center\">Fr. Conceicao Rodrigues College of Engineering</p>\n",
        "<p align=\"center\">Department of Computer Engineering</p></b>\n",
        "<p align=\"center\"> Experiment 4 - Python Programs to create class, object and methods</p>\n",
        "\n",
        "### Course Details\n",
        "\n",
        "|             |       |              |             |\n",
        "|-------------|-------|--------------|-------------|\n",
        "|Academic Year|2023-24|Estimated Time|Experiment 04 - 02 Hours|\n",
        "|Course And Semester|S.E.Comps - IV|Subject Name|Python Programming Lab|\n",
        "|Module No.| 01 |Chapter Title|Python Basics|\n",
        "|Experiment Type|Software Performance|Subject Code|CSL405|\n",
        "\n",
        "1.1 Student Details\n",
        "\n",
        "|             |                    |             |      |\n",
        "|-------------|--------------------|-------------|------|\n",
        "| Name        | Vivian Vijay Ludrick     | Roll No     | 9914 |\n",
        "| Branch      | SE Comps A         | Batch       | C    |\n",
        "| Date of Performance | 26/02/2024  | Date of Submission | 26/02/2024 |\n",
        "\n",
        "1.2 Experiment Details\n",
        "\n",
        "|||\n",
        "|---|---|\n",
        "| CO Mapping: | CSL405.1: Apply basic concepts of python like control statements, in-built data structures, functions and Object Oriented Paradigms. |\n",
        "\n",
        "1.3 Rubrics\n",
        "\n",
        "|Timeline (05)|Prepardness(05)|Effort(05)| Result(05)| Documentation(05)|Total(25)|\n",
        "|---|---|---|---|---|---|\n",
        "|. .|. .|. .|. .|. .|. .|\n",
        "|. .|. .|. .|. .|. .|. .|\n",
        "\n",
        "---\n",
        "### Aim and Objective of Exeriment\n",
        "#### To implement following programs in python\n",
        "ObjObjective of experiment 4 is to understand the basic concepts of Class and Objects in Python Programming. Students will be able to demonstrate how to create Class and Objects, class and Instance Variables, Class properties in Python.\n",
        "\n",
        "**Pre-Requisite**: Any programming language like C, C++\n",
        "\n",
        "**Tools**: Python IDE\n",
        "\n",
        "---\n",
        "\n",
        "### **Python Lab 4(class, object and methods, Inheritance)**"
      ]
    },
    {
      "cell_type": "code",
      "source": [
        "class Student:\n",
        "  def __init__(self, name, roll_no):\n",
        "    self.name = name\n",
        "    self.roll_no = roll_no\n",
        "    self.age = None\n",
        "    self.marks = None\n",
        "\n",
        "  def display(self):\n",
        "    print(f\"Name: {self.name}\")\n",
        "    print(f\"Roll No: {self.roll_no}\")\n",
        "    print(f\"Age: {self.age}\")\n",
        "    print(f\"Marks: {self.marks}\")\n",
        "\n",
        "  def setAge(self, age):\n",
        "    self.age = age\n",
        "\n",
        "  def setMarks(self, marks):\n",
        "    self.marks = marks\n",
        "\n",
        "# Creating a student object\n",
        "student = Student(\"John Doe\", 123)\n",
        "\n",
        "# Setting the age and marks pf students\n",
        "student.setAge(20)\n",
        "student.setMarks(95)\n",
        "\n",
        "#using display method\n",
        "student.display()"
      ],
      "metadata": {
        "colab": {
          "base_uri": "https://localhost:8080/"
        },
        "id": "oe2mohvNctQn",
        "outputId": "faa40ea2-69bb-48cd-de6b-fa633d975f31"
      },
      "execution_count": null,
      "outputs": [
        {
          "output_type": "stream",
          "name": "stdout",
          "text": [
            "Name: John Doe\n",
            "Roll No: 123\n",
            "Age: 20\n",
            "Marks: 95\n"
          ]
        }
      ]
    },
    {
      "cell_type": "code",
      "source": [
        "class Time:\n",
        "  def __init__(self, hours, minutes):\n",
        "    self.hours = hours\n",
        "    self.minutes = minutes\n",
        "\n",
        "  # adds two times and returns a new time object\n",
        "  def addTime(self, other):\n",
        "    total_minutes = self.hours * 60 + self.minutes + other.hours * 60 + other.minutes\n",
        "    hours = total_minutes // 60\n",
        "    minutes = total_minutes % 60\n",
        "    return Time(hours, minutes)\n",
        "\n",
        "  def displayTime(self):\n",
        "    print(f\"The time is {self.hours} hour(s) and {self.minutes} minute(s)\")\n",
        "\n",
        "  def displayMinutes(self):\n",
        "    total_minutes = self.hours * 60 + self.minutes\n",
        "    print(f\"The time in minutes is {total_minutes} minutes\")\n",
        "\n",
        "# Create two Time\n",
        "time1 = Time(2, 50)\n",
        "time2 = Time(1, 20)\n",
        "\n",
        "# Add two times\n",
        "time3 = time1.addTime(time2)\n",
        "\n",
        "# Displaytime\n",
        "time3.displayTime()\n",
        "\n",
        "# Display in minutes\n",
        "time3.displayMinutes()"
      ],
      "metadata": {
        "colab": {
          "base_uri": "https://localhost:8080/"
        },
        "id": "IGG-sW0Ydv_m",
        "outputId": "9bcafa64-2cd7-451a-d6e7-7d9ce4e19689"
      },
      "execution_count": null,
      "outputs": [
        {
          "output_type": "stream",
          "name": "stdout",
          "text": [
            "The time is 4 hour(s) and 10 minute(s)\n",
            "The time in minutes is 250 minutes\n"
          ]
        }
      ]
    },
    {
      "cell_type": "code",
      "source": [
        "class CartItem:\n",
        "  def __init__(self, product_id, quantity, price):\n",
        "    self.product_id = product_id\n",
        "    self.quantity = quantity\n",
        "    self.price = price\n",
        "\n",
        "  def display(self):\n",
        "    print(f\"Product ID: {self.product_id}\")\n",
        "    print(f\"Quantity: {self.quantity}\")\n",
        "    print(f\"Price: {self.price}\")\n",
        "\n",
        "\n",
        "# derived class Promotional Item\n",
        "class PromotionalItem(CartItem):\n",
        "  def __init__(self, product_id, quantity, price, discount_percentage):\n",
        "    super().__init__(product_id, quantity, price)\n",
        "    self.discount_percentage = discount_percentage\n",
        "\n",
        "  def display(self):\n",
        "    super().display()\n",
        "    print(f\"Discount: {self.discount_percentage}%\")\n",
        "\n",
        "\n",
        "# Some more derived classes\n",
        "# Regular Item\n",
        "class RegularItem(CartItem):\n",
        "  pass\n",
        "\n",
        "# Electronic Item\n",
        "class ElectronicItem(CartItem):\n",
        "  pass\n",
        "\n",
        "# Clothing Item\n",
        "class ClothingItem(CartItem):\n",
        "  pass\n",
        "\n",
        "# some multilevel inheritance\n",
        "# Promotional Electronic Item\n",
        "class PromotionalElectronicItem(PromotionalItem, ElectronicItem):\n",
        "  def display(self):\n",
        "      super(PromotionalItem, self).display()\n",
        "      print(\"Type: Electronics\\nStatus: Promoted\")\n",
        "\n",
        "\n",
        "# Promotional Clothing Item\n",
        "class PromotionalClothingItem(PromotionalItem, ClothingItem):\n",
        "  def display(self):\n",
        "      super(PromotionalItem, self).display()\n",
        "      print(\"Type: Electronics\\nStatus: not promoted\")\n",
        "\n",
        "# proving the code is correct\n",
        "promotional_item_elec = PromotionalElectronicItem(\"electronic012\", 2, 1400, 20)\n",
        "promotional_item_cloth = PromotionalClothingItem(\"cloth2\", 5, 500, 30)\n",
        "promotional_item_elec.display()\n",
        "print(\"\\n\")\n",
        "promotional_item_cloth.display()"
      ],
      "metadata": {
        "colab": {
          "base_uri": "https://localhost:8080/"
        },
        "id": "n0v34qKten--",
        "outputId": "f313bd2d-3903-4c0e-d932-b85eea546aca"
      },
      "execution_count": null,
      "outputs": [
        {
          "output_type": "stream",
          "name": "stdout",
          "text": [
            "Product ID: electronic012\n",
            "Quantity: 2\n",
            "Price: 1400\n",
            "Type: Electronics\n",
            "Status: Promoted\n",
            "\n",
            "\n",
            "Product ID: cloth2\n",
            "Quantity: 5\n",
            "Price: 500\n",
            "Type: Electronics\n",
            "Status: not promoted\n"
          ]
        }
      ]
    },
    {
      "cell_type": "code",
      "source": [
        "# Parent of all classes\n",
        "class Vehicle:\n",
        "  def __init__(self, make, model, year):\n",
        "    self.make = make\n",
        "    self.model = model\n",
        "    self.year = year\n",
        "\n",
        "  def display_info(self):\n",
        "    print(f\"Make: {self.make}, Model: {self.model}, Year: {self.year}\")\n",
        "\n",
        "class Car(Vehicle):\n",
        "  def __init__(self, make, model, year, num_doors):\n",
        "    super().__init__(make, model, year)\n",
        "    self.num_doors = num_doors\n",
        "\n",
        "class Truck(Vehicle):\n",
        "  def __init__(self, make, model, year, payload):\n",
        "    super().__init__(make, model, year)\n",
        "    self.payload = payload\n",
        "\n",
        "class ElectricCar(Car):\n",
        "  def __init__(self, make, model, year, num_doors, battery_capacity):\n",
        "    super().__init__(make, model, year, num_doors)\n",
        "    self.battery_capacity = battery_capacity\n",
        "\n",
        "  def charge_battery(self):\n",
        "    print(f\"{self.make} {self.model}: Charging battery...\")\n",
        "\n",
        "class ElectricTruck(Truck):\n",
        "  def __init__(self, make, model, year, payload, battery_capacity):\n",
        "    super().__init__(make, model, year, payload)\n",
        "    self.battery_capacity = battery_capacity\n",
        "\n",
        "  def charge_battery(self):\n",
        "    print(f\"{self.make} {self.model}: Charging battery...\")\n",
        "\n",
        "\n",
        "# Create instances of different vehicles\n",
        "car = Car(\"Toyota\", \"Corolla\", 2023, 4)\n",
        "truck = Truck(\"Ford\", \"F-150\", 2022, 1000)\n",
        "electric_car = ElectricCar(\"Tesla\", \"Model S\", 2021, 4, 100)\n",
        "electric_truck = ElectricTruck(\"Rivian\", \"R1T\", 2022, 2000, 150)\n",
        "\n",
        "# Display information about each vehicle\n",
        "print(\"Car:\")\n",
        "car.display_info()\n",
        "print(\"Truck:\")\n",
        "truck.display_info()\n",
        "print(\"Electric Car:\")\n",
        "electric_car.display_info()\n",
        "print(\"Electric Truck:\")\n",
        "electric_truck.display_info()\n",
        "# Charge battery\n",
        "electric_car.charge_battery()\n",
        "electric_truck.charge_battery()"
      ],
      "metadata": {
        "colab": {
          "base_uri": "https://localhost:8080/"
        },
        "id": "PFI1iI6Nhw1E",
        "outputId": "d0985cb5-fc71-4ecd-abfb-6c4ae8be3855"
      },
      "execution_count": null,
      "outputs": [
        {
          "output_type": "stream",
          "name": "stdout",
          "text": [
            "Car:\n",
            "Make: Toyota, Model: Corolla, Year: 2023\n",
            "Truck:\n",
            "Make: Ford, Model: F-150, Year: 2022\n",
            "Electric Car:\n",
            "Make: Tesla, Model: Model S, Year: 2021\n",
            "Electric Truck:\n",
            "Make: Rivian, Model: R1T, Year: 2022\n",
            "Tesla Model S: Charging battery...\n",
            "Rivian R1T: Charging battery...\n"
          ]
        }
      ]
    },
    {
      "cell_type": "markdown",
      "source": [
        "---\n",
        "\n",
        "# Postlab\n",
        "\n",
        "---"
      ],
      "metadata": {
        "id": "bOXDgBQPpcbs"
      }
    },
    {
      "cell_type": "code",
      "source": [
        "class Clock:\n",
        "  def __init__(self, time):\n",
        "    self.time = time\n",
        "\n",
        "  def print_time(self):\n",
        "    time = '6:30'\n",
        "    print( self.time)\n",
        "\n",
        "clock = Clock('5:30')\n",
        "clock.print_time()"
      ],
      "metadata": {
        "colab": {
          "base_uri": "https://localhost:8080/"
        },
        "id": "UnIZ-Fb4pfOX",
        "outputId": "5c8431b0-527a-4f39-fbab-bc794f8c1cd2"
      },
      "execution_count": null,
      "outputs": [
        {
          "output_type": "stream",
          "name": "stdout",
          "text": [
            "5:30\n"
          ]
        }
      ]
    },
    {
      "cell_type": "markdown",
      "source": [
        "(a)What does the code print out? If you aren’t sure, create a Python file and run it.\n",
        "\n",
        "==> The code prints out 5: 30.\n",
        "\n",
        "---\n",
        "\n",
        "(b) Is that what you expected? Why?\n",
        "\n",
        "==> The code prints the expected value of 5:30. Since the varaible in print_time function is time and not self.time, it assign it to the variable time and the class attribute time. Since the print statement prints the class attribute time and not the variable time the class atttribute that was passed during the initialization is printed.\n"
      ],
      "metadata": {
        "id": "rlryfjcHrzXC"
      }
    },
    {
      "cell_type": "code",
      "source": [
        "class Clock:\n",
        "  def __init__(self, time):\n",
        "    self.time = time\n",
        "  def print_time(self, time):\n",
        "    print(time)\n",
        "\n",
        "clock = Clock('5:30')\n",
        "clock.print_time('10:30')"
      ],
      "metadata": {
        "colab": {
          "base_uri": "https://localhost:8080/"
        },
        "id": "rYpzKPmIswsy",
        "outputId": "a0103978-c0c2-41a5-bca4-71f9cf88a731"
      },
      "execution_count": null,
      "outputs": [
        {
          "output_type": "stream",
          "name": "stdout",
          "text": [
            "10:30\n"
          ]
        }
      ]
    },
    {
      "cell_type": "markdown",
      "source": [
        "(a) What does the code print out? If you aren't sure, create a Python file and run it.\n",
        "\n",
        "==> The code prints 10:30\n",
        "\n",
        "---\n",
        "\n",
        "(b) What does this tell you about giving parameters the same name as object\n",
        "\n",
        "==> Even when the argument is time the print will print time and not self.time. Here self.time will print the class attribute time and time is a variable created for that function. So when we print the time variable we are printing time and not class attribute time."
      ],
      "metadata": {
        "id": "YaXm9F_itBHr"
      }
    },
    {
      "cell_type": "code",
      "source": [
        "class Clock:\n",
        "  def __init__(self, time):\n",
        "    self.time = time\n",
        "  def print_time(self):\n",
        "    print(self.time)\n",
        "\n",
        "boston_clock = Clock('5:30')\n",
        "paris_clock = boston_clock\n",
        "paris_clock.time = '10:30'\n",
        "boston_clock.print_time()"
      ],
      "metadata": {
        "colab": {
          "base_uri": "https://localhost:8080/"
        },
        "id": "mO5CA8oUt40M",
        "outputId": "bd8da30a-8346-4f21-be51-f7773d552d84"
      },
      "execution_count": null,
      "outputs": [
        {
          "output_type": "stream",
          "name": "stdout",
          "text": [
            "10:30\n"
          ]
        }
      ]
    },
    {
      "cell_type": "markdown",
      "source": [
        "(a)What does the code print out? If you aren’t sure, create a Python file and run it.\n",
        "\n",
        "==> The code prints out 10:39\n",
        "\n",
        "---\n",
        "\n",
        "(b) Why does it print what it does? (Are boston clock and paris clock different objects? Why or why not?)\n",
        "\n",
        "==> When paris_clock is initialized to boston_clock, instead of creating a clone of the object boston_clock, it references to the same object as the boston_clock. So the boston_clock and the paris_clock reference the same object in the memory. SO when the time of paris_clock is changed the time in the referenced object is changed. When we print the boston_clock since it references the samre object as paris clock the time in boston clock is changed too. Here paris_clock and boston_clock are two ways to reference the same object"
      ],
      "metadata": {
        "id": "ZOxLXHviuJBm"
      }
    }
  ],
  "metadata": {
    "kernelspec": {
      "display_name": "Python 3",
      "language": "python",
      "name": "python3"
    },
    "colab": {
      "provenance": []
    }
  },
  "nbformat": 4,
  "nbformat_minor": 0
}