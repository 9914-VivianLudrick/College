{
  "cells": [
    {
      "cell_type": "markdown",
      "source": [
        "<b><p align=\"center\">Fr. Conceicao Rodrigues College of Engineering</p>\n",
        "<p align=\"center\">Department of Computer Engineering</p></b>\n",
        "<p align=\"center\">Experiment 1: Python Programs on Tuples, Dictionary and sets</p>\n",
        "\n",
        "### Course Details\n",
        "\n",
        "|             |       |              |             |\n",
        "|-------------|-------|--------------|-------------|\n",
        "|Academic Year|2023-24|Estimated Time|Experiment 02 - 02 Hours|\n",
        "|Course And Semester|S.E.Comps - IV|Subject Name|Python Programming Lab|\n",
        "|Module N0.| 01 |Chapter Title|Python Basics|\n",
        "|Experiment Type|Software Performance|Subject Code|CSL405|\n",
        "\n",
        "1.1 Student Details\n",
        "\n",
        "|             |                    |             |      |\n",
        "|-------------|--------------------|-------------|------|\n",
        "| Name        | Vivian Vijay Ludrick     | Roll No     | 9914 |\n",
        "| Branch      | SE Comps A         | Batch       | C    |\n",
        "| Date of Performance | 29/01/2024  | Date of Submission | 30/01/2024 |\n",
        "\n",
        "1.2 Experiment Details\n",
        "\n",
        "|||\n",
        "|---|---|\n",
        "| CO Mapping: | CSL405.1: Apply basic concepts of python like control statements, in-built data structures, functions and Object Oriented Paradigms. |\n",
        "\n",
        "1.3 Rubrics\n",
        "\n",
        "|Timeline (02)|Prepardness(02)|Effort(02)| Result(02)| Documentation(02)|Total(10)|\n",
        "|---|---|---|---|---|---|\n",
        "|. .|. .|. .|. .|. .|. .|\n",
        "|. .|. .|. .|. .|. .|. .|\n",
        "\n",
        "---\n",
        "### Aim and Objective of Exeriment\n",
        "#### To implement following programs in python\n",
        "Objective of experiment 2 is to understand the basic concepts of Python Programming. Students will\n",
        "be able to demonstrate how to create Tuple, Sets and dictionary using Python language. Students will be able to apply various operations like slicing on strings and list, control\n",
        "statements, various functions like append, sort, remove, delete etc. on Tuple, Sets and\n",
        "dictionary.\n",
        "\n",
        "**Pre-Requisite**: Any programming language like C, C++\n",
        "\n",
        "**Tools**: Python IDLE\n",
        "\n",
        "---\n",
        "\n",
        "### **Python Lab 2(List, Tuples, Dictionary and sets)**\n",
        "\n"
      ],
      "metadata": {
        "id": "MOhdmO8nBdBL"
      }
    },
    {
      "cell_type": "code",
      "execution_count": null,
      "metadata": {
        "id": "BLLR1cAvpzkZ",
        "outputId": "a5b88965-b74c-4534-bb9c-c02d70865d21",
        "colab": {
          "base_uri": "https://localhost:8080/"
        }
      },
      "outputs": [
        {
          "output_type": "stream",
          "name": "stdout",
          "text": [
            "Enter the number: 23\n",
            "2   3\n",
            "3\n",
            "2\n"
          ]
        }
      ],
      "source": [
        "x = input(\"Enter the number: \")\n",
        "# Method 1:\n",
        "print(x[0], \" \",x[1])\n",
        "# Method 2:\n",
        "x=int(x)\n",
        "while x > 0:\n",
        "    print(x%10)\n",
        "    x=x//10"
      ]
    },
    {
      "cell_type": "code",
      "execution_count": null,
      "metadata": {
        "id": "qtZ2Ngz3pzkb",
        "outputId": "afdf4dce-5fb2-44cc-b693-8e773429850e"
      },
      "outputs": [
        {
          "name": "stdout",
          "output_type": "stream",
          "text": [
            "Enter the number253569\n",
            "6\n"
          ]
        }
      ],
      "source": [
        "n = int(input((\"Enter the number\")))\n",
        "n = str(n)\n",
        "print(len(n))"
      ]
    },
    {
      "cell_type": "code",
      "execution_count": null,
      "metadata": {
        "id": "xbu0_mPdpzkc",
        "outputId": "1fab353a-55b9-4d92-b0bb-6d6028ce9081"
      },
      "outputs": [
        {
          "name": "stdout",
          "output_type": "stream",
          "text": [
            "Enter the number of numbers5\n",
            "Enter the list of numbers\n",
            "Enter the number1\n",
            "Enter the number7\n",
            "Enter the number2\n",
            "Enter the number8\n",
            "Enter the number0\n",
            "[2, 8, 0]\n",
            "[1, 7]\n"
          ]
        }
      ],
      "source": [
        "n=int(input(\"Enter the number of numbers\"))\n",
        "print(\"Enter the list of numbers\")\n",
        "l=[]\n",
        "le=[]\n",
        "lo=[]\n",
        "i=0\n",
        "while i < n:\n",
        "    num=int(input(\"Enter the number\"))\n",
        "    l.append(num)\n",
        "    i+=1\n",
        "for i in l:\n",
        "    if i % 2 == 0:\n",
        "        le.append(i)\n",
        "    else:\n",
        "        lo.append(i)\n",
        "print(le)\n",
        "print(lo)"
      ]
    },
    {
      "cell_type": "code",
      "execution_count": null,
      "metadata": {
        "colab": {
          "base_uri": "https://localhost:8080/"
        },
        "id": "tCCAFacYpzkc",
        "outputId": "9496035f-847f-4085-c1d6-67322786f6ae"
      },
      "outputs": [
        {
          "output_type": "stream",
          "name": "stdout",
          "text": [
            "Enter the day of the weekmon\n",
            "Yes\n"
          ]
        }
      ],
      "source": [
        "l = [\"Mon\",\"Tues\",\"Wed\",\"Thur\",\"Fri\",\"Sat\"]\n",
        "l=[x.lower() for x in l]\n",
        "day = input(\"Enter the day of the week\")\n",
        "day= day.lower()\n",
        "if day in l:\n",
        "    print(\"Yes\")\n",
        "else:\n",
        "    print(day)\n",
        "    print(\"No\")"
      ]
    },
    {
      "cell_type": "code",
      "execution_count": null,
      "metadata": {
        "id": "HVpdrChZpzkc",
        "outputId": "80ff63d3-fabc-4128-bf69-1178809b2a42"
      },
      "outputs": [
        {
          "name": "stdout",
          "output_type": "stream",
          "text": [
            "(1, 2, 'apple', 'orange')\n"
          ]
        }
      ],
      "source": [
        "t=(1, 2, 3)\n",
        "t=list(t)\n",
        "t[2]= \"apple\"\n",
        "t.append(\"orange\")\n",
        "t=tuple(t)\n",
        "print(t)"
      ]
    },
    {
      "cell_type": "code",
      "execution_count": null,
      "metadata": {
        "id": "zegyeaCMpzkc",
        "outputId": "19e438ec-d91a-4f34-f8da-520df6e50f0d"
      },
      "outputs": [
        {
          "name": "stdout",
          "output_type": "stream",
          "text": [
            "67   77\n",
            "77   67\n"
          ]
        }
      ],
      "source": [
        "a,b=67,77\n",
        "print(a,\" \", b)\n",
        "a, b = b, a\n",
        "print(a,\" \", b)"
      ]
    },
    {
      "cell_type": "code",
      "execution_count": null,
      "metadata": {
        "id": "uXK2mhUlpzkd",
        "outputId": "803adf6a-5da8-4649-a8da-abed3446234c"
      },
      "outputs": [
        {
          "name": "stdout",
          "output_type": "stream",
          "text": [
            "{'txt': 'text', 'png': 'image file', 'py': 'python file'}\n",
            "{'txt': 'text', 'png': 'image file', 'py': 'python file', 'doc': 'word file'}\n"
          ]
        }
      ],
      "source": [
        "d={}\n",
        "d[\"txt\"]=\"text\"\n",
        "d[\"png\"]=\"image file\"\n",
        "d[\"py\"]=\"python file\"\n",
        "print(d)\n",
        "d[\"doc\"]=\"word file\"\n",
        "print(d)"
      ]
    },
    {
      "cell_type": "code",
      "execution_count": null,
      "metadata": {
        "id": "qIfpTekxpzkd",
        "outputId": "76b21c88-a3e4-4369-8a54-ba15c96666ca"
      },
      "outputs": [
        {
          "name": "stdout",
          "output_type": "stream",
          "text": [
            "{1, 2, 3, 4, 5, 6, 7, 8, 9, 10, 11, 13, 17}\n",
            "{2, 3, 5, 7, 9}\n",
            "{1, 4, 6, 8, 10}\n",
            "{17, 11, 13}\n",
            "{1, 4, 6, 8, 10, 11, 13, 17}\n"
          ]
        }
      ],
      "source": [
        "s1={1, 2, 3, 4, 5, 6, 7, 8, 9, 10}\n",
        "s2={2, 3, 5, 7, 9, 11, 13, 17}\n",
        "print(s1.union(s2))\n",
        "print(s1.intersection(s2))\n",
        "print(s1.difference(s2))\n",
        "print(s2.difference(s1))\n",
        "print(s1.symmetric_difference(s2))"
      ]
    },
    {
      "cell_type": "code",
      "execution_count": null,
      "metadata": {
        "id": "Q0syARqfpzkd",
        "outputId": "ecd02a96-f2be-404d-a288-01d2bb983aeb"
      },
      "outputs": [
        {
          "name": "stdout",
          "output_type": "stream",
          "text": [
            "Enter the day of the week2 Feb, 2023\n",
            "(2023, 2, 2)\n"
          ]
        }
      ],
      "source": [
        "months=[\"Jan\",\"Feb\",\"Mar\",\"April\",\"May\",\"June\",\"July\",\"Aug\",\"Sep\",\"Oct\",\"Nov\",\"Dec\"]\n",
        "months=[x.lower() for x in months]\n",
        "day=input(\"Enter the day of the week\")\n",
        "day = day.replace(\",\",\"\")\n",
        "day=day.split(\" \")\n",
        "day[1]=months.index(day[1].lower()) + 1\n",
        "day=tuple([int(x) for x in day])\n",
        "print(day[::-1])"
      ]
    },
    {
      "cell_type": "code",
      "execution_count": null,
      "metadata": {
        "id": "MCkSjE33pzkd",
        "outputId": "b6961070-83c3-498e-e097-6c5d69e6b0cf"
      },
      "outputs": [
        {
          "ename": "TypeError",
          "evalue": "'str' object does not support item assignment",
          "output_type": "error",
          "traceback": [
            "\u001b[0;31m---------------------------------------------------------------------------\u001b[0m",
            "\u001b[0;31mTypeError\u001b[0m                                 Traceback (most recent call last)",
            "\u001b[0;32m<ipython-input-51-c92cb69318ed>\u001b[0m in \u001b[0;36m<module>\u001b[0;34m\u001b[0m\n\u001b[1;32m      5\u001b[0m \u001b[0mx\u001b[0m\u001b[0;34m[\u001b[0m\u001b[0;36m1\u001b[0m\u001b[0;34m]\u001b[0m \u001b[0;34m=\u001b[0m \u001b[0mx\u001b[0m\u001b[0;34m[\u001b[0m\u001b[0;36m1\u001b[0m\u001b[0;34m]\u001b[0m \u001b[0;34m+\u001b[0m \u001b[0;34m'd'\u001b[0m \u001b[0;31m# Statement 5\u001b[0m\u001b[0;34m\u001b[0m\u001b[0;34m\u001b[0m\u001b[0m\n\u001b[1;32m      6\u001b[0m \u001b[0my\u001b[0m\u001b[0;34m[\u001b[0m\u001b[0;36m2\u001b[0m\u001b[0;34m]\u001b[0m \u001b[0;34m=\u001b[0m \u001b[0;36m4\u001b[0m \u001b[0;31m# Statement 6\u001b[0m\u001b[0;34m\u001b[0m\u001b[0;34m\u001b[0m\u001b[0m\n\u001b[0;32m----> 7\u001b[0;31m \u001b[0mx\u001b[0m\u001b[0;34m[\u001b[0m\u001b[0;36m1\u001b[0m\u001b[0;34m]\u001b[0m\u001b[0;34m[\u001b[0m\u001b[0;36m1\u001b[0m\u001b[0;34m]\u001b[0m \u001b[0;34m=\u001b[0m \u001b[0;34m'y'\u001b[0m \u001b[0;31m# Statement 7\u001b[0m\u001b[0;34m\u001b[0m\u001b[0;34m\u001b[0m\u001b[0m\n\u001b[0m\u001b[1;32m      8\u001b[0m \u001b[0mz\u001b[0m\u001b[0;34m[\u001b[0m\u001b[0;36m0\u001b[0m\u001b[0;34m]\u001b[0m \u001b[0;34m=\u001b[0m \u001b[0;36m0\u001b[0m \u001b[0;31m# Statement 8\u001b[0m\u001b[0;34m\u001b[0m\u001b[0;34m\u001b[0m\u001b[0m\n\u001b[1;32m      9\u001b[0m \u001b[0mw\u001b[0m\u001b[0;34m[\u001b[0m\u001b[0;36m4\u001b[0m\u001b[0;34m]\u001b[0m\u001b[0;34m[\u001b[0m\u001b[0;36m0\u001b[0m\u001b[0;34m]\u001b[0m \u001b[0;34m=\u001b[0m \u001b[0;36m1000\u001b[0m \u001b[0;31m# Statement 9\u001b[0m\u001b[0;34m\u001b[0m\u001b[0;34m\u001b[0m\u001b[0m\n",
            "\u001b[0;31mTypeError\u001b[0m: 'str' object does not support item assignment"
          ]
        }
      ],
      "source": [
        "x = [1,\"abcd\", 2,\"efgh\", [3, 4]] # Statement 1\n",
        "y = x [0:50] # Statement 2\n",
        "z = y # Statement 3\n",
        "w = x # Statement 4\n",
        "x[1] = x[1] + 'd' # Statement 5\n",
        "y[2] = 4 # Statement 6\n",
        "x[1][1] = 'y' # Statement 7 #Error:'str' object does not support item assignment\n",
        "#Fix:\n",
        "# x.pop(1)\n",
        "# x.insert(1,'y')\n",
        "z[0] = 0 # Statement 8\n",
        "w[4][0] = 1000 # Statement 9\n",
        "a = (x[4][1] == 4) # Statement 10"
      ]
    },
    {
      "cell_type": "markdown",
      "source": [
        "## Dictionaries Challenge 1: Thesaurus App"
      ],
      "metadata": {
        "id": "4X293-o4sbxK"
      }
    },
    {
      "cell_type": "code",
      "execution_count": null,
      "metadata": {
        "colab": {
          "base_uri": "https://localhost:8080/"
        },
        "id": "1hd_-sM-pzkd",
        "outputId": "4dcdf3f5-8d58-40c5-9417-a2a83ed84437"
      },
      "outputs": [
        {
          "output_type": "stream",
          "name": "stdout",
          "text": [
            "Hello User!Welcome the the thesaurus dictionary, a one stop solution to your vocabulary\n",
            "My dictionary contains the following words:\n",
            " dict_keys(['happy', 'sad', 'smart', 'brave', 'beautiful', 'angry', 'friendly', 'confused', 'excited', 'creative', 'tired', 'courageous', 'generous', 'mysterious'])\n",
            "Please enter the word you want to search in this dictionary:\tmysterious\n",
            "The meaning of mysterious is:\t secretive\n",
            "Would you like to view the dictonary?(y|n)\ty\n",
            "{'happy': ['joyful', 'content', 'pleased', 'elated', 'cheerful'], 'sad': ['unhappy', 'mournful', 'gloomy', 'dejected', 'melancholy'], 'smart': ['intelligent', 'clever', 'bright', 'wise', 'sharp'], 'brave': ['courageous', 'fearless', 'valiant', 'daring', 'bold'], 'beautiful': ['gorgeous', 'attractive', 'stunning', 'lovely', 'charming'], 'angry': ['irate', 'furious', 'enraged', 'indignant', 'mad'], 'friendly': ['amiable', 'affable', 'sociable', 'cordial', 'warm'], 'confused': ['bewildered', 'perplexed', 'baffled', 'disoriented', 'muddled'], 'excited': ['enthusiastic', 'eager', 'thrilled', 'animated', 'ecstatic'], 'creative': ['innovative', 'imaginative', 'original', 'resourceful', 'inventive'], 'tired': ['fatigued', 'exhausted', 'weary', 'drained', 'spent'], 'courageous': ['brave', 'daring', 'fearless', 'valiant', 'gallant'], 'generous': ['benevolent', 'charitable', 'liberal', 'munificent', 'philanthropic'], 'mysterious': ['enigmatic', 'cryptic', 'ambiguous', 'puzzling', 'secretive']}\n"
          ]
        }
      ],
      "source": [
        "import random\n",
        "# a dictonary that links the words to their list of synonyms\n",
        "thesaurus = {\n",
        "    'happy': ['joyful', 'content', 'pleased', 'elated', 'cheerful'],\n",
        "    'sad': ['unhappy', 'mournful', 'gloomy', 'dejected', 'melancholy'],\n",
        "    'smart': ['intelligent', 'clever', 'bright', 'wise', 'sharp'],\n",
        "    'brave': ['courageous', 'fearless', 'valiant', 'daring', 'bold'],\n",
        "    'beautiful': ['gorgeous', 'attractive', 'stunning', 'lovely', 'charming'],\n",
        "    'angry': ['irate', 'furious', 'enraged', 'indignant', 'mad'],\n",
        "    'friendly': ['amiable', 'affable', 'sociable', 'cordial', 'warm'],\n",
        "    'confused': ['bewildered', 'perplexed', 'baffled', 'disoriented', 'muddled'],\n",
        "    'excited': ['enthusiastic', 'eager', 'thrilled', 'animated', 'ecstatic'],\n",
        "    'creative': ['innovative', 'imaginative', 'original', 'resourceful', 'inventive'],\n",
        "    'tired': ['fatigued', 'exhausted', 'weary', 'drained', 'spent'],\n",
        "    'courageous': ['brave', 'daring', 'fearless', 'valiant', 'gallant'],\n",
        "    'generous': ['benevolent', 'charitable', 'liberal', 'munificent', 'philanthropic'],\n",
        "    'mysterious': ['enigmatic', 'cryptic', 'ambiguous', 'puzzling', 'secretive']\n",
        "}\n",
        "#Welcome message\n",
        "print('Hello User!Welcome the the thesaurus dictionary, a one stop solution to your vocabulary')\n",
        "print(\"My dictionary contains the following words:\\n\",thesaurus.keys()) # this will print all the keys in the dictonary\n",
        "\n",
        "#word to search in dictionary\n",
        "question=input(\"Please enter the word you want to search in this dictionary:\\t\").lower()\n",
        "# this will directly check if the word exist in the dictonary as a key\n",
        "if question in thesaurus:\n",
        "  print(\"The meaning of\",question,\"is:\\t\",random.choice(thesaurus[question]))# random.choice()takes a list as argument and return a random single element from the list\n",
        "else:\n",
        "  print(\"The word\",question,\" is not in dictonary\")\n",
        "# If the user to see the entire dictionary\n",
        "view=input(\"Would you like to view the dictonary?(y|n)\\t\")\n",
        "print(thesaurus) if view==\"y\" else print(\"Thank oyu for visit thesaurus. Make sure to spread the word\")# this works like a tenary operator in python short and simple\n"
      ]
    },
    {
      "cell_type": "markdown",
      "source": [
        "## Starting Postlab\n",
        "### Dictionaries Challenge 2: Database Admin Program"
      ],
      "metadata": {
        "id": "ziLEfAE_xmZK"
      }
    },
    {
      "cell_type": "code",
      "source": [
        "# Welcome message\n",
        "print(\"Hello user! Welcome\")\n",
        "# User login information.\n",
        "log_on_information = {\n",
        "    'admin00': 'admin_password',\n",
        "    'user1': 'password123',\n",
        "    'john_doe': 'qwerty789',\n",
        "    'jane_smith': 'secure456',\n",
        "    'test_user': 'testpass'\n",
        "}\n",
        "# Get the username of the user trying to log in\n",
        "username = input(\"Please enter your username: \")\n",
        "# Check if the user exist in the database\n",
        "if username in log_on_information:\n",
        "  # Get the password of the user found in the database\n",
        "  passwd = input(f\"@{username} please enter your password: \")\n",
        "  # Check iff the username and the password match\n",
        "  if passwd == log_on_information[username]:\n",
        "    print(f\"Hello @{username}, welcome home\")\n",
        "    # if the user trying to login is admin00 show him the entire dictionary\n",
        "    if username == \"admin00\":\n",
        "      print(thesaurus)\n",
        "    else:\n",
        "      # Check if the user logged in want to chagne his password\n",
        "      ans=input(\"Would you like to change your password?(y|n)\")\n",
        "      if ans == 'y':\n",
        "        check_new_passwd = input(\"Please enter a new password (atleast 8 characters long): \")\n",
        "        # Check if the new password is atleast 8 characters long\n",
        "        if len(check_new_passwd) < 7:\n",
        "          print(\"Your new password is not 8 characters long\")\n",
        "        else:\n",
        "          log_on_information[username] = check_new_passwd\n",
        "          print(f\"Password updated for @{username}. The new password is: {log_on_information[username]}\")\n",
        "      else:\n",
        "        # Exit message for the logged in user\n",
        "        print(\"Thank you for logging in! Please visit again\")\n",
        "  else:\n",
        "    # If the username and password don't match\n",
        "    print(\"Your password is incorrect. Please retry logging in\")\n",
        "else:\n",
        "  # If the user is not found in the database\n",
        "  print(f\"The @{username} was not found! Please signing in before trying to log in\")"
      ],
      "metadata": {
        "id": "aHY9NgTNxvd5",
        "colab": {
          "base_uri": "https://localhost:8080/"
        },
        "outputId": "715c2658-440e-421e-a361-2c3bb45dd610"
      },
      "execution_count": null,
      "outputs": [
        {
          "output_type": "stream",
          "name": "stdout",
          "text": [
            "Hello user! Welcome\n",
            "Please enter your username: jane_smith\n",
            "@jane_smith please enter your password: secure456\n",
            "Hello @jane_smith, welcome home\n",
            "Would you like to change your password?(y|n)y\n",
            "Please enter a new password (atleast 8 characters long): csfsdc\n",
            "Your new password is not 8 characters long\n"
          ]
        }
      ]
    }
  ],
  "metadata": {
    "kernelspec": {
      "display_name": "Python 3",
      "language": "python",
      "name": "python3"
    },
    "language_info": {
      "codemirror_mode": {
        "name": "ipython",
        "version": 3
      },
      "file_extension": ".py",
      "mimetype": "text/x-python",
      "name": "python",
      "nbconvert_exporter": "python",
      "pygments_lexer": "ipython3",
      "version": "3.8.10"
    },
    "colab": {
      "provenance": []
    }
  },
  "nbformat": 4,
  "nbformat_minor": 0
}