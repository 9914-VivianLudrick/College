{
  "cells": [
    {
      "cell_type": "markdown",
      "metadata": {
        "id": "W1ZYXI-mwfIz"
      },
      "source": [
        "<b><p align=\"center\">Fr. Conceicao Rodrigues College of Engineering</p>\n",
        "<p align=\"center\">Department of Computer Engineering</p></b>\n",
        "<p align=\"center\">Experiment 3: Python Programs on Control statements and functions</p>\n",
        "\n",
        "### Course Details\n",
        "\n",
        "|             |       |              |             |\n",
        "|-------------|-------|--------------|-------------|\n",
        "|Academic Year|2023-24|Estimated Time|Experiment 01 - 02 Hours|\n",
        "|Course And Semester|S.E.Comps - IV|Subject Name|Python Programming Lab|\n",
        "|Module N0.| 01 |Chapter Title|Python Basics|\n",
        "|Experiment Type|Software Performance|Subject Code|CSL405|\n",
        "\n",
        "1.1 Student Details\n",
        "\n",
        "|             |                    |             |      |\n",
        "|-------------|--------------------|-------------|------|\n",
        "| Name        | Vivian Vijay Ludrick     | Roll No     | 9914 |\n",
        "| Branch      | SE Comps A         | Batch       | C    |\n",
        "| Date of Performance | 12/02/2024  | Date of Submission | 12/02/2024 |\n",
        "\n",
        "1.2 Experiment Details\n",
        "\n",
        "|||\n",
        "|---|---|\n",
        "| CO Mapping: | CSL405.1 Apply basic concepts of python like control statements, in-built data structures, functions and Object Oriented Paradigms. |\n",
        "\n",
        "1.3 Rubrics\n",
        "\n",
        "|Timeline (05)|Prepardness(05)|Effort(05)| Result(05)| Documentation(05)|Total(25)|\n",
        "|---|---|---|---|---|---|\n",
        "|. .|. .|. .|. .|. .|. .|\n",
        "\n",
        "---\n",
        "### Aim and Objective of Exeriment\n",
        "#### To implement following programs in python\n",
        "Objective of experiment 3 is to understand the basic concepts of Python Programming. Students will be able to demonstrate how to create Tuple, Sets , dictionary, functions using Python language. Students will be able to apply various operations in functions using control structure .\n",
        "\n",
        "**Pre-Requisite**: Any programming language like C, C++\n",
        "\n",
        "**Tools**: Python IDLE\n",
        "\n",
        "---\n",
        "\n",
        "### **Python Lab 3 (Functions: Strings, List, Tuples, Dictionaries, While loop, for loop, if else)**\n",
        "\n"
      ]
    },
    {
      "cell_type": "code",
      "execution_count": null,
      "metadata": {
        "id": "U14YmfSSwfI6",
        "outputId": "3f587541-57b2-46a7-b39d-da18626f0a46"
      },
      "outputs": [
        {
          "name": "stdout",
          "output_type": "stream",
          "text": [
            "What is your nameVivian\n",
            "My name is  Vivian\n"
          ]
        }
      ],
      "source": [
        "def same(name):\n",
        "    return name\n",
        "\n",
        "name = input(\"What is your name\")\n",
        "print(\"My name is \", same(name))"
      ]
    },
    {
      "cell_type": "code",
      "execution_count": null,
      "metadata": {
        "id": "_zzKNJfXwfI8",
        "outputId": "86955ea6-1e1c-4db2-c0e9-253d7d6d36f9"
      },
      "outputs": [
        {
          "name": "stdout",
          "output_type": "stream",
          "text": [
            "Enter the number8\n",
            "8  - 3 =  5\n"
          ]
        }
      ],
      "source": [
        "def minusThree(num):\n",
        "    return num - 3\n",
        "\n",
        "num = int(input(\"Enter the number\"))\n",
        "print(num, \" - 3 = \", minusThree(num))"
      ]
    },
    {
      "cell_type": "code",
      "execution_count": null,
      "metadata": {
        "id": "q6gH2RIIwfI-",
        "outputId": "4b210a11-b429-45b1-f530-4dbaaebcaebf"
      },
      "outputs": [
        {
          "name": "stdout",
          "output_type": "stream",
          "text": [
            "What is your nameBecky\n",
            "Hello, my name is Becky and I love SI 106.\n"
          ]
        }
      ],
      "source": [
        "def intro(name):\n",
        "    return f\"Hello, my name is {name} and I love SI 106.\"\n",
        "\n",
        "name = input(\"What is your name\")\n",
        "print(intro(name))\n"
      ]
    },
    {
      "cell_type": "code",
      "execution_count": null,
      "metadata": {
        "id": "Yy7YJThPwfI_",
        "outputId": "8383e232-e8df-4ba8-a839-b0513550fd57"
      },
      "outputs": [
        {
          "name": "stdout",
          "output_type": "stream",
          "text": [
            "The total of [1, 2, 3, 4, 5] is 15\n"
          ]
        }
      ],
      "source": [
        "def total(numbers):\n",
        "    sum = 0\n",
        "    for i in numbers:\n",
        "        sum += i\n",
        "    return sum\n",
        "\n",
        "numbers = [1, 2, 3, 4, 5]\n",
        "print(\"The total of\", numbers, \"is\", total(numbers))"
      ]
    },
    {
      "cell_type": "code",
      "execution_count": null,
      "metadata": {
        "id": "g_vmgZ4gwfJA",
        "outputId": "4846e9c7-4aea-40cb-d139-10d03f91432e"
      },
      "outputs": [
        {
          "name": "stdout",
          "output_type": "stream",
          "text": [
            "[0, 2, 4, 6, 8, 10, 12, 14]\n"
          ]
        }
      ],
      "source": [
        "counter = 0\n",
        "eve_nums=[]\n",
        "while counter <= 15:\n",
        "    if(counter%2 == 0):\n",
        "        eve_nums.append(counter)\n",
        "    counter = counter + 1;\n",
        "print(eve_nums)\n"
      ]
    },
    {
      "cell_type": "code",
      "execution_count": null,
      "metadata": {
        "id": "AsiLAtUmwfJB",
        "outputId": "c555493d-403a-4745-c265-a887422e7436"
      },
      "outputs": [
        {
          "name": "stdout",
          "output_type": "stream",
          "text": [
            "197    197\n"
          ]
        }
      ],
      "source": [
        "sum1 = 0\n",
        "sum2 = 0\n",
        "lst = [65, 78, 21, 33]\n",
        "for x in lst:\n",
        "    sum1 = sum1 + x\n",
        "\n",
        "i = 0\n",
        "while i < len(lst):\n",
        "    sum2 = sum2 + lst[i]\n",
        "    i+=1\n",
        "\n",
        "print(sum1,\"  \", sum2)"
      ]
    },
    {
      "cell_type": "code",
      "execution_count": null,
      "metadata": {
        "id": "ffhDxYUYwfJC",
        "outputId": "954f2b09-071e-4d8b-b5c1-6f4de38f2bfb"
      },
      "outputs": [
        {
          "name": "stdout",
          "output_type": "stream",
          "text": [
            "Enter the number5\n",
            "5  *  10  =  50\n"
          ]
        }
      ],
      "source": [
        "def addit(num):\n",
        "    return num + 5\n",
        "\n",
        "def mult(num):\n",
        "    return num * addit(num)\n",
        "\n",
        "num = int(input(\"Enter the number:\"))\n",
        "print(num, \" * \", num + 5, \" = \", mult(num))"
      ]
    },
    {
      "cell_type": "code",
      "execution_count": null,
      "metadata": {
        "id": "sFXNX6c_wfJD",
        "outputId": "8b70754d-6e79-4dca-a90c-29c30f2beea6"
      },
      "outputs": [
        {
          "name": "stdout",
          "output_type": "stream",
          "text": [
            "Enter the type of medal:gold\n",
            "Enter the count of medal:33\n",
            "Enter the type of medal:silver\n",
            "Enter the count of medal:17\n",
            "Enter the type of medal:bronze\n",
            "Enter the count of medal:12\n",
            "{'gold': '33', 'silver': '17', 'bronze': '12'}\n"
          ]
        }
      ],
      "source": [
        "medals = {}\n",
        "\n",
        "for i in range(3):\n",
        "    type = input(\"Enter the type of medal:\")\n",
        "    count = input(\"Enter the count of medal:\")\n",
        "    medals[type] = count\n",
        "\n",
        "print(medals)"
      ]
    },
    {
      "cell_type": "code",
      "execution_count": null,
      "metadata": {
        "id": "YKi3Jm-ewfJF",
        "outputId": "693c2b0f-6675-450d-af90-3ea8a1c9b4c4"
      },
      "outputs": [
        {
          "name": "stdout",
          "output_type": "stream",
          "text": [
            "['Zaptos', 'Charizard', 'Diglett', 'Tauros', 'Lanturn', 'Wailord']\n"
          ]
        }
      ],
      "source": [
        "lst_tups = [('Articuno', 'Moltres', 'Zaptos'), ('Beedrill', 'Metapod', 'Charizard', 'Venasaur',\n",
        "'Squirtle'), ('Oddish', 'Poliwag', 'Diglett','Bellsprout'), ('Ponyta', \"Farfetch\", \"Tauros\",\n",
        "'Dragonite'),('Hoothoot', 'Chikorita', 'Lanturn', 'Flaaffy', 'Unown', 'Teddiursa', 'Phanpy'),\n",
        "('Loudred', 'Volbeat', 'Wailord', 'Seviper', 'Sealeo')]\n",
        "to_count=[]\n",
        "for i in lst_tups:\n",
        "    to_count.append(i[2])\n",
        "\n",
        "print(to_count)"
      ]
    },
    {
      "cell_type": "code",
      "execution_count": null,
      "metadata": {
        "id": "sWJcKmm_wfJF",
        "outputId": "0de9b4c7-fb31-4aa3-e54d-a8d450137955"
      },
      "outputs": [
        {
          "name": "stdout",
          "output_type": "stream",
          "text": [
            "['19', '14378', '8907', '16', '1005', '44', '33', '32', '871', '1450']\n"
          ]
        }
      ],
      "source": [
        "nums = ['1450', '33', '871', '19', '14378', '32', '1005', '44', '8907', '16']\n",
        "def last_char(num):\n",
        "    return num[-1]\n",
        "\n",
        "nums_sorted = sorted(nums, key=last_char, reverse = True)\n",
        "print(nums_sorted)"
      ]
    },
    {
      "cell_type": "code",
      "execution_count": null,
      "metadata": {
        "id": "5AVnVvlLwfJG",
        "outputId": "07f0e285-ac76-4b21-c109-1ff7289399a1"
      },
      "outputs": [
        {
          "name": "stdout",
          "output_type": "stream",
          "text": [
            "Hello! Welcome to Pam's Tic Tac Toe game!\n",
            "\n",
            "\n",
            "Rules: Player 1 and player 2, represented by X and O, take turns marking the spaces in a 3*3 grid. The player who succeeds in placing three of their marks in a horizontal, vertical, or diagonal row wins.\n",
            "\n",
            "\n",
            "Press enter to continue.\n",
            "\n",
            "\n",
            "Here is the playboard: \n",
            "---+---+---\n",
            "   |   |  \n",
            "---+---+---\n",
            "   |   |  \n",
            "---+---+---\n",
            "   |   |  \n",
            "---+---+---\n",
            "Player 1, do you want to be X or O? o\n",
            "Player 2, you are X. \n",
            "Press enter to continue.\n",
            "\n",
            "\n",
            "Player X, it is your turn. \n",
            "Pick a row:[upper row: enter 0, middle row: enter 1, bottom row: enter 2]:0\n",
            "Pick a column:[left column: enter 0, middle column: enter 1, right column enter 2]0\n",
            "---+---+---\n",
            "X  |   |  \n",
            "---+---+---\n",
            "   |   |  \n",
            "---+---+---\n",
            "   |   |  \n",
            "---+---+---\n",
            "Player o, it is your turn. \n",
            "Pick a row:[upper row: enter 0, middle row: enter 1, bottom row: enter 2]:1\n",
            "Pick a column:[left column: enter 0, middle column: enter 1, right column enter 2]0\n",
            "---+---+---\n",
            "X  |   |  \n",
            "---+---+---\n",
            "o  |   |  \n",
            "---+---+---\n",
            "   |   |  \n",
            "---+---+---\n",
            "Player X, it is your turn. \n",
            "Pick a row:[upper row: enter 0, middle row: enter 1, bottom row: enter 2]:0\n",
            "Pick a column:[left column: enter 0, middle column: enter 1, right column enter 2]1\n",
            "---+---+---\n",
            "X  | X |  \n",
            "---+---+---\n",
            "o  |   |  \n",
            "---+---+---\n",
            "   |   |  \n",
            "---+---+---\n",
            "Player o, it is your turn. \n",
            "Pick a row:[upper row: enter 0, middle row: enter 1, bottom row: enter 2]:1\n",
            "Pick a column:[left column: enter 0, middle column: enter 1, right column enter 2]1\n",
            "---+---+---\n",
            "X  | X |  \n",
            "---+---+---\n",
            "o  | o |  \n",
            "---+---+---\n",
            "   |   |  \n",
            "---+---+---\n",
            "Player X, it is your turn. \n",
            "Pick a row:[upper row: enter 0, middle row: enter 1, bottom row: enter 2]:02\n",
            "Pick a column:[left column: enter 0, middle column: enter 1, right column enter 2]2\n",
            "---+---+---\n",
            "X  | X |  \n",
            "---+---+---\n",
            "o  | o |  \n",
            "---+---+---\n",
            "   |   | X\n",
            "---+---+---\n",
            "Player o, it is your turn. \n",
            "Pick a row:[upper row: enter 0, middle row: enter 1, bottom row: enter 2]:1\n",
            "Pick a column:[left column: enter 0, middle column: enter 1, right column enter 2]2\n",
            "---+---+---\n",
            "X  | X |  \n",
            "---+---+---\n",
            "o  | o | o\n",
            "---+---+---\n",
            "   |   | X\n",
            "---+---+---\n",
            "Player o, you won!\n",
            "Game over.\n",
            "\n",
            "\n",
            "Press enter to see the game summary. \n",
            "Winner : Player o.\n"
          ]
        }
      ],
      "source": [
        "def intro():\n",
        "# This function introduces the rules of the game Tic Tac Toe\n",
        "    print(\"Hello! Welcome to Pam's Tic Tac Toe game!\")\n",
        "    print(\"\\n\")\n",
        "    print(\"Rules: Player 1 and player 2, represented by X and O, take turns \"\n",
        "          \"marking the spaces in a 3*3 grid. The player who succeeds in placing \"\n",
        "          \"three of their marks in a horizontal, vertical, or diagonal row wins.\")\n",
        "    print(\"\\n\")\n",
        "    input(\"Press enter to continue.\")\n",
        "    print(\"\\n\")\n",
        "\n",
        "\n",
        "\n",
        "def create_grid():\n",
        "# This function creates a blank playboard\n",
        "    print(\"Here is the playboard: \")\n",
        "    board = [[\" \", \" \", \" \"],\n",
        "             [\" \", \" \", \" \"],\n",
        "             [\" \", \" \", \" \"]]\n",
        "    return board\n",
        "\n",
        "\n",
        "\n",
        "def sym():\n",
        "# This function decides the players' symbols\n",
        "    symbol_1 = input(\"Player 1, do you want to be X or O? \")\n",
        "    if symbol_1 == \"X\":\n",
        "        symbol_2 = \"O\"\n",
        "        print(\"Player 2, you are O. \")\n",
        "    else:\n",
        "        symbol_2 = \"X\"\n",
        "        print(\"Player 2, you are X. \")\n",
        "    input(\"Press enter to continue.\")\n",
        "    print(\"\\n\")\n",
        "    return (symbol_1, symbol_2)\n",
        "\n",
        "\n",
        "\n",
        "def startGamming(board, symbol_1, symbol_2, count):\n",
        "# This function starts the game.\n",
        "\n",
        "    # Decides the turn\n",
        "    if count % 2 == 0:\n",
        "        player = symbol_1\n",
        "    elif count % 2 == 1:\n",
        "        player = symbol_2\n",
        "    print(\"Player \"+ player + \", it is your turn. \")\n",
        "    row = int(input(\"Pick a row:\"\n",
        "                    \"[upper row: enter 0, middle row: enter 1, bottom row: enter 2]:\"))\n",
        "    column = int(input(\"Pick a column:\"\n",
        "                       \"[left column: enter 0, middle column: enter 1, right column enter 2]\"))\n",
        "\n",
        "\n",
        "    # Check if players' selection is out of range\n",
        "    while (row > 2 or row < 0) or (column > 2 or column < 0):\n",
        "        outOfBoard(row, column)\n",
        "        row = int(input(\"Pick a row[upper row:\"\n",
        "                        \"[enter 0, middle row: enter 1, bottom row: enter 2]:\"))\n",
        "        column = int(input(\"Pick a column:\"\n",
        "                           \"[left column: enter 0, middle column: enter 1, right column enter 2]\"))\n",
        "\n",
        "        # Check if the square is already filled\n",
        "    while (board[row][column] == symbol_1)or (board[row][column] == symbol_2):\n",
        "        filled = illegal(board, symbol_1, symbol_2, row, column)\n",
        "        row = int(input(\"Pick a row[upper row:\"\n",
        "                        \"[enter 0, middle row: enter 1, bottom row: enter 2]:\"))\n",
        "        column = int(input(\"Pick a column:\"\n",
        "                            \"[left column: enter 0, middle column: enter 1, right column enter 2]\"))\n",
        "\n",
        "    # Locates player's symbol on the board\n",
        "    if player == symbol_1:\n",
        "        board[row][column] = symbol_1\n",
        "\n",
        "    else:\n",
        "        board[row][column] = symbol_2\n",
        "\n",
        "    return (board)\n",
        "\n",
        "\n",
        "\n",
        "def isFull(board, symbol_1, symbol_2):\n",
        "    count = 1\n",
        "    winner = True\n",
        "# This function check if the board is full\n",
        "    while count < 10 and winner == True:\n",
        "        gaming = startGamming(board, symbol_1, symbol_2, count)\n",
        "        pretty = printPretty(board)\n",
        "\n",
        "        if count == 9:\n",
        "            print(\"The board is full. Game over.\")\n",
        "            if winner == True:\n",
        "                print(\"There is a tie. \")\n",
        "\n",
        "        # Check if here is a winner\n",
        "        winner = isWinner(board, symbol_1, symbol_2, count)\n",
        "        count += 1\n",
        "    if winner == False:\n",
        "        print(\"Game over.\")\n",
        "\n",
        "    # This is function gives a report\n",
        "    report(count, winner, symbol_1, symbol_2)\n",
        "\n",
        "\n",
        "\n",
        "def outOfBoard(row, column):\n",
        "# This function tells the players that their selection is out of range\n",
        "    print(\"Out of boarder. Pick another one. \")\n",
        "\n",
        "\n",
        "\n",
        "def printPretty(board):\n",
        "# This function prints the board nice!\n",
        "    rows = len(board)\n",
        "    cols = len(board)\n",
        "    print(\"---+---+---\")\n",
        "    for r in range(rows):\n",
        "        print(board[r][0], \" |\", board[r][1], \"|\", board[r][2])\n",
        "        print(\"---+---+---\")\n",
        "    return board\n",
        "\n",
        "\n",
        "\n",
        "def isWinner(board, symbol_1, symbol_2, count):\n",
        "# This function checks if any winner is winning\n",
        "    winner = True\n",
        "    # Check the rows\n",
        "    for row in range (0, 3):\n",
        "        if (board[row][0] == board[row][1] == board[row][2] == symbol_1):\n",
        "            winner = False\n",
        "            print(\"Player \" + symbol_1 + \", you won!\")\n",
        "\n",
        "        elif (board[row][0] == board[row][1] == board[row][2] == symbol_2):\n",
        "            winner = False\n",
        "            print(\"Player \" + symbol_2 + \", you won!\")\n",
        "\n",
        "\n",
        "    # Check the columns\n",
        "    for col in range (0, 3):\n",
        "        if (board[0][col] == board[1][col] == board[2][col] == symbol_1):\n",
        "            winner = False\n",
        "            print(\"Player \" + symbol_1 + \", you won!\")\n",
        "        elif (board[0][col] == board[1][col] == board[2][col] == symbol_2):\n",
        "            winner = False\n",
        "            print(\"Player \" + symbol_2 + \", you won!\")\n",
        "\n",
        "    # Check the diagnoals\n",
        "    if board[0][0] == board[1][1] == board[2][2] == symbol_1:\n",
        "        winner = False\n",
        "        print(\"Player \" + symbol_1 + \", you won!\")\n",
        "\n",
        "    elif board[0][0] == board[1][1] == board[2][2] == symbol_2:\n",
        "        winner = False\n",
        "        print(\"Player \" + symbol_2 + \", you won!\")\n",
        "\n",
        "    elif board[0][2] == board[1][1] == board[2][0] == symbol_1:\n",
        "        winner = False\n",
        "        print(\"Player \" + symbol_1 + \", you won!\")\n",
        "\n",
        "    elif board[0][2] == board[1][1] == board[2][0] == symbol_2:\n",
        "        winner = False\n",
        "        print(\"Player \" + symbol_2 + \", you won!\")\n",
        "\n",
        "    return winner\n",
        "\n",
        "\n",
        "\n",
        "def illegal(board, symbol_1, symbol_2, row, column):\n",
        "    print(\"The square you picked is already filled. Pick another one.\")\n",
        "\n",
        "\n",
        "def report(count, winner, symbol_1, symbol_2):\n",
        "    print(\"\\n\")\n",
        "    input(\"Press enter to see the game summary. \")\n",
        "    if (winner == False) and (count % 2 == 1 ):\n",
        "        print(\"Winner : Player \" + symbol_1 + \".\")\n",
        "    elif (winner == False) and (count % 2 == 0 ):\n",
        "        print(\"Winner : Player \" + symbol_2 + \".\")\n",
        "    else:\n",
        "        print(\"There is a tie. \")\n",
        "\n",
        "# The main function\n",
        "introduction = intro()\n",
        "board = create_grid()\n",
        "pretty = printPretty(board)\n",
        "symbol_1, symbol_2 = sym()\n",
        "full = isFull(board, symbol_1, symbol_2) # The function that starts the game is also in here.\n"
      ]
    },
    {
      "cell_type": "code",
      "execution_count": null,
      "metadata": {
        "id": "Tuj8U_SEwfJH",
        "outputId": "17d4bca9-f936-447a-e375-3fc159f84670"
      },
      "outputs": [
        {
          "name": "stdout",
          "output_type": "stream",
          "text": [
            "Welcome to the Word Guessing Game!\n",
            "The word has 5 letters\n",
            "-----\n",
            "Guess a letter or the whole word: h\n",
            "Incorrect guess!\n",
            "---g-\n",
            "Guess a letter or the whole word: j\n",
            "Incorrect guess!\n",
            "---go\n",
            "Guess a letter or the whole word: k\n",
            "Incorrect guess!\n",
            "--ngo\n",
            "Guess a letter or the whole word: l\n",
            "Incorrect guess!\n",
            "-ango\n",
            "Guess a letter or the whole word: w\n",
            "Incorrect guess!\n",
            "mango\n",
            "Guess a letter or the whole word: \n",
            "Incorrect word!\n",
            "mango\n",
            "Guess a letter or the whole word: w\n",
            "You already guessed that letter!\n",
            "mango\n",
            "Guess a letter or the whole word: mango\n",
            "Congratulations! You guessed the word in 8 attempts.\n"
          ]
        }
      ],
      "source": [
        "import random\n",
        "\n",
        "def choose_word():\n",
        "    words = [\"apple\", \"banana\", \"orange\", \"mango\", \"strawberry\"]  # Add more words as needed\n",
        "    return random.choice(words)\n",
        "\n",
        "def display_word(word, guessed_letters):\n",
        "    display = \"\"\n",
        "    for letter in word:\n",
        "        if letter in guessed_letters:\n",
        "            display += letter\n",
        "        else:\n",
        "            display += \"-\"\n",
        "    return display\n",
        "\n",
        "word = choose_word()\n",
        "guessed_letters = []\n",
        "attempts = 0\n",
        "\n",
        "print(\"Welcome to the Word Guessing Game!\")\n",
        "print(\"The word has\", len(word), \"letters\")\n",
        "\n",
        "while True:\n",
        "    if set(word) == set(guessed_letters):\n",
        "        print(\"Sorry you failed\")\n",
        "        break\n",
        "\n",
        "    print(display_word(word, guessed_letters))\n",
        "    guess = input(\"Guess a letter or the whole word: \").lower()\n",
        "    attempts += 1\n",
        "\n",
        "    if len(guess) == 1:  # Guessing a letter\n",
        "        if guess in guessed_letters:\n",
        "            print(\"You already guessed that letter!\")\n",
        "        else:\n",
        "            guessed_letters.append(guess)\n",
        "            if guess not in word:\n",
        "                rem_letter = [char for char in word if char not in guessed_letters]\n",
        "                guessed_letters.append(random.choice(rem_letter))\n",
        "                print(\"Incorrect guess!\")\n",
        "    else:  # Guessing the whole word\n",
        "        if guess == word:\n",
        "            print(\"Congratulations! You guessed the word in\", attempts, \"attempts.\")\n",
        "            break\n",
        "        else:\n",
        "            print(\"Incorrect word!\")\n",
        "\n",
        "    if len(guessed_letters) > 10:  # Limiting the number of attempts\n",
        "        print(\"Sorry, you've run out of attempts. The word was\", word)\n",
        "        break"
      ]
    }
  ],
  "metadata": {
    "kernelspec": {
      "display_name": "Python 3",
      "language": "python",
      "name": "python3"
    },
    "colab": {
      "provenance": []
    }
  },
  "nbformat": 4,
  "nbformat_minor": 0
}