{
  "nbformat": 4,
  "nbformat_minor": 0,
  "metadata": {
    "colab": {
      "provenance": []
    },
    "kernelspec": {
      "name": "python3",
      "display_name": "Python 3"
    },
    "language_info": {
      "name": "python"
    }
  },
  "cells": [
    {
      "cell_type": "markdown",
      "source": [
        "<p align=\"center\">\n",
        "  <b>PROGRAMMING ASSIGNMENT 1</b>\n",
        "<br/>\n",
        "<b><i>Course: Skill Based Programming - Python programming</i></b>\n",
        "</p>\n",
        "\n",
        "Class: S.E. Computer (Division A and B)\n",
        "\n",
        "Date of Assignment: 21-02-2024\n",
        "\n",
        "Date of Submission: 06-03-2024\n",
        "\n",
        "---\n",
        "\n",
        "**CSL405.1**: Apply basic concepts of python like control statements, in-built data structures, functions and Object Oriented Paradigms.\n",
        "\n",
        "**CSL405.2**: Implement file handling techniques and text processing functionalities.\n",
        "\n",
        "**CSL405.3**: Implement data structures without using libraries.\n",
        "\n",
        "NOTE: Solve the following questions using Python. Submit code along with appropriate output for all test cases.\n",
        "\n",
        "---\n"
      ],
      "metadata": {
        "id": "RBDMhDVmMno3"
      }
    },
    {
      "cell_type": "code",
      "execution_count": null,
      "metadata": {
        "colab": {
          "base_uri": "https://localhost:8080/"
        },
        "id": "8iQUS5C53kho",
        "outputId": "edd11826-0cc0-42c8-faa9-77db8dec216c"
      },
      "outputs": [
        {
          "output_type": "stream",
          "name": "stdout",
          "text": [
            "4578-3456-0978-5069\n",
            "It is a valid credit card number\n"
          ]
        }
      ],
      "source": [
        "import re\n",
        "\n",
        "def checkCreditCardNumber(number):\n",
        "    creditcardCardNumberRegex = '^(?!.+(\\d)(-?\\1){3,})[456]\\d{3}(-?\\d{4}){3}$'\n",
        "    return re.search(creditcardCardNumberRegex, number)\n",
        "\n",
        "print(\"It is a valid credit card number\") if checkCreditCardNumber(input(\"Enter you credit card number:\\t\")) else print(\"It is not a valid credit card number\")"
      ]
    },
    {
      "cell_type": "code",
      "source": [
        "f= open(\"newfile.txt\", \"r\")\n",
        "print(f.read())"
      ],
      "metadata": {
        "colab": {
          "base_uri": "https://localhost:8080/"
        },
        "id": "iXs7DGri-9p_",
        "outputId": "4a788b0e-fe45-47a3-8d5e-f8ce6a221ee2"
      },
      "execution_count": null,
      "outputs": [
        {
          "output_type": "stream",
          "name": "stdout",
          "text": [
            "0111111111111111\n",
            "1100001101010000\n",
            "1111111111111111\n",
            "1001001011011100\n",
            "1100001101010000\n",
            "1111010000100100\n",
            "1001001000001010\n",
            "1010101010101010\n",
            "1100001101010000\n",
            "1101101111001000\n",
            "1111010000100100\n",
            "1000010101011100\n",
            "1001001000001010\n",
            "1001110111111000\n",
            "1010101010101010\n"
          ]
        }
      ]
    },
    {
      "cell_type": "markdown",
      "source": [],
      "metadata": {
        "id": "1qP5rFj45E1o"
      }
    },
    {
      "cell_type": "code",
      "source": [
        "def readnumbersfromfile(filename):\n",
        "    with open(filename, \"r\") as f:\n",
        "        listofnumbers = f.readlines()\n",
        "        listofnumbers = [int(number) for number in listofnumbers]\n",
        "    return listofnumbers\n",
        "\n",
        "def sortedlist(listofnumbers):\n",
        "    listofnumbers.sort()\n",
        "    return listofnumbers\n",
        "\n",
        "def writenumbersinfile(filename):\n",
        "    listofnumbers = readnumbersfromfile(filename)\n",
        "    listofnumbers = sortedlist(listofnumbers)\n",
        "    with open(filename, \"w\") as f:\n",
        "        f.write(\"sorted list: \\n\")\n",
        "        for number in listofnumbers:\n",
        "            f.write(f'{number:16}\\n')\n",
        "\n",
        "writenumbersinfile(\"newfile.txt\")\n",
        "with open(\"newfile.txt\", \"r\") as f:\n",
        "  print(f.read())"
      ],
      "metadata": {
        "colab": {
          "base_uri": "https://localhost:8080/"
        },
        "id": "aKsJsF7p4Ufn",
        "outputId": "1e6b64e8-b57e-465d-e865-89af2fa35753"
      },
      "execution_count": null,
      "outputs": [
        {
          "output_type": "stream",
          "name": "stdout",
          "text": [
            "sorted list: \n",
            " 111111111111111\n",
            "1000010101011100\n",
            "1001001000001010\n",
            "1001001000001010\n",
            "1001001011011100\n",
            "1001110111111000\n",
            "1010101010101010\n",
            "1010101010101010\n",
            "1100001101010000\n",
            "1100001101010000\n",
            "1100001101010000\n",
            "1101101111001000\n",
            "1111010000100100\n",
            "1111010000100100\n",
            "1111111111111111\n",
            "\n"
          ]
        }
      ]
    },
    {
      "cell_type": "code",
      "source": [
        "class ListNode:\n",
        "  def __init__(self, val=0, next=None):\n",
        "    self.val = val\n",
        "    self.next = next\n",
        "\n",
        "def delete_duplicates(head):\n",
        "  if not head:\n",
        "    return None\n",
        "\n",
        "  dummy = ListNode(0)\n",
        "  dummy.next = head\n",
        "  prev = dummy\n",
        "  curr = head\n",
        "\n",
        "  while curr:\n",
        "    if curr.val == prev.val:\n",
        "      prev.next = curr.next\n",
        "    else:\n",
        "      prev = curr\n",
        "    curr = curr.next\n",
        "\n",
        "  return dummy.next\n",
        "\n",
        "# Create a dummy sorted linked list\n",
        "head = ListNode(1)\n",
        "head.next = ListNode(1)\n",
        "head.next.next = ListNode(2)\n",
        "head.next.next.next = ListNode(2)\n",
        "head.next.next.next.next = ListNode(3)\n",
        "head.next.next.next.next.next = ListNode(3)\n",
        "\n",
        "# Remove duplicate values\n",
        "result = delete_duplicates(head)\n",
        "\n",
        "# Print the values of the new list\n",
        "curr = result\n",
        "while curr:\n",
        "  print(curr.val)\n",
        "  curr = curr.next"
      ],
      "metadata": {
        "id": "C_H2J6EFCgOw",
        "colab": {
          "base_uri": "https://localhost:8080/"
        },
        "outputId": "f7b1b6bf-de26-49f9-f293-18704cb5c82b"
      },
      "execution_count": null,
      "outputs": [
        {
          "output_type": "stream",
          "name": "stdout",
          "text": [
            "1\n",
            "2\n",
            "3\n"
          ]
        }
      ]
    },
    {
      "cell_type": "code",
      "source": [
        "u = {1, 2, 3, 4, 5}\n",
        "v = {3, 5}\n",
        "if (u ^ v) == (u - v):\n",
        "  print(\"v is a subset of u\")"
      ],
      "metadata": {
        "colab": {
          "base_uri": "https://localhost:8080/"
        },
        "id": "Zkarl8oiI7w9",
        "outputId": "a6b094c1-670b-4a9d-f12d-6c1a8443eeec"
      },
      "execution_count": null,
      "outputs": [
        {
          "output_type": "stream",
          "name": "stdout",
          "text": [
            "v is a subset of u\n"
          ]
        }
      ]
    },
    {
      "cell_type": "code",
      "source": [
        "u = {1, 2, 3, 4, 5}\n",
        "v = {3, 5}\n",
        "if (u - (u - v) == v):\n",
        "  print(\"Set v should be a subset of u\")"
      ],
      "metadata": {
        "colab": {
          "base_uri": "https://localhost:8080/"
        },
        "id": "n6L_9csQJ-gw",
        "outputId": "a0834f03-d2d5-4133-e088-bfda28b0a791"
      },
      "execution_count": null,
      "outputs": [
        {
          "output_type": "stream",
          "name": "stdout",
          "text": [
            "Set v should be a subset of u\n"
          ]
        }
      ]
    },
    {
      "cell_type": "code",
      "source": [
        "def secondMax(l):\n",
        "  (myMax, mySecondMax) = (0, 0)\n",
        "  for i in range(len(l)):\n",
        "    if l[i] >= myMax:\n",
        "      mySecondMax = myMax\n",
        "      myMax = l[i]\n",
        "  return (mySecondMax)\n",
        "\n",
        "u = [1, 2, 3, 4, 5]\n",
        "print(\"My second maximum element is: \", secondMax(u))"
      ],
      "metadata": {
        "colab": {
          "base_uri": "https://localhost:8080/"
        },
        "id": "bxP8-HTFKjoH",
        "outputId": "5ca501cd-2501-4ab8-a09d-793171502b11"
      },
      "execution_count": null,
      "outputs": [
        {
          "output_type": "stream",
          "name": "stdout",
          "text": [
            "My second maximum element is:  4\n"
          ]
        }
      ]
    },
    {
      "cell_type": "code",
      "source": [
        "def reverseList(l):\n",
        "  if l == [] or len(l) <= 1:\n",
        "    return (l)\n",
        "  else:\n",
        "    return [l[-1]] + reverseList(l[1:-1]) + [l[0]]\n",
        "\n",
        "u = [1, 2, 3, 4, 5]\n",
        "print(reverseList(u))"
      ],
      "metadata": {
        "colab": {
          "base_uri": "https://localhost:8080/",
          "height": 0
        },
        "id": "HO245ruDLhij",
        "outputId": "8e3dcff5-a880-415b-82e3-e9a6ffe4fb65"
      },
      "execution_count": 42,
      "outputs": [
        {
          "output_type": "stream",
          "name": "stdout",
          "text": [
            "[5, 4, 3, 2, 1]\n"
          ]
        }
      ]
    }
  ]
}